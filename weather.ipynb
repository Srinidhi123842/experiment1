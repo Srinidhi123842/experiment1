{
  "nbformat": 4,
  "nbformat_minor": 0,
  "metadata": {
    "colab": {
      "provenance": [],
      "authorship_tag": "ABX9TyOaiQj8Duh45BKy1B4JwsX6",
      "include_colab_link": true
    },
    "kernelspec": {
      "name": "python3",
      "display_name": "Python 3"
    },
    "language_info": {
      "name": "python"
    }
  },
  "cells": [
    {
      "cell_type": "markdown",
      "metadata": {
        "id": "view-in-github",
        "colab_type": "text"
      },
      "source": [
        "<a href=\"https://colab.research.google.com/github/Srinidhi123842/experiment1/blob/main/weather.ipynb\" target=\"_parent\"><img src=\"https://colab.research.google.com/assets/colab-badge.svg\" alt=\"Open In Colab\"/></a>"
      ]
    },
    {
      "cell_type": "code",
      "source": [
        "def calculate_weather(temperature, humidity, wind):\n",
        "    weather = 0.5 * temperature**2 - 0.2 * humidity + 0.1 * wind - 15\n",
        "    return weather\n",
        "def stage_1_hard_coding():\n",
        "    print(\"Stage 1: Hard-coding variables\")\n",
        "    temperature = 25\n",
        "    humidity = 60\n",
        "    wind = 10\n",
        "    weather = calculate_weather(temperature, humidity, wind)\n",
        "    print(f\"For temperature {temperature}°C, humidity {humidity}%, and wind speed {wind} km/h, the weather variable is: {weather:.2f}\")\n",
        "    print()\n",
        "stage_1_hard_coding()\n"
      ],
      "metadata": {
        "colab": {
          "base_uri": "https://localhost:8080/"
        },
        "id": "qnxISn13gSzs",
        "outputId": "5c5767ee-ea3f-4d04-f754-986b389c119d"
      },
      "execution_count": 1,
      "outputs": [
        {
          "output_type": "stream",
          "name": "stdout",
          "text": [
            "Stage 1: Hard-coding variables\n",
            "For temperature 25°C, humidity 60%, and wind speed 10 km/h, the weather variable is: 286.50\n",
            "\n"
          ]
        }
      ]
    },
    {
      "cell_type": "code",
      "source": [
        "def stage_2_keyboard_input():\n",
        "    print(\"Stage 2: Keyboard input\")\n",
        "    temperature = float(input(\"Enter temperature (°C): \"))\n",
        "    humidity = float(input(\"Enter humidity (%): \"))\n",
        "    wind = float(input(\"Enter wind speed (km/h): \"))\n",
        "    weather = calculate_weather(temperature, humidity, wind)\n",
        "    print(f\"The calculated weather variable is: {weather:.2f}\")\n",
        "    print()\n",
        "\n",
        "stage_2_keyboard_input()"
      ],
      "metadata": {
        "colab": {
          "base_uri": "https://localhost:8080/"
        },
        "id": "vanMJC5qg05j",
        "outputId": "a287bc41-0478-4bd1-a748-dcbcbf83b7fc"
      },
      "execution_count": 2,
      "outputs": [
        {
          "output_type": "stream",
          "name": "stdout",
          "text": [
            "Stage 2: Keyboard input\n",
            "Enter temperature (°C): 40\n",
            "Enter humidity (%): 25\n",
            "Enter wind speed (km/h): 30\n",
            "The calculated weather variable is: 783.00\n",
            "\n"
          ]
        }
      ]
    },
    {
      "cell_type": "code",
      "source": [
        "def stage_3_read_from_file():\n",
        "    print(\"Stage 3: Reading from file\")\n",
        "    input_file = \"file1.txt\"\n",
        "    output_file = \"output_data.txt\"\n",
        "    process_file(input_file, output_file)\n",
        "    print()\n",
        "\n",
        "stage_3_read_from_file()"
      ],
      "metadata": {
        "colab": {
          "base_uri": "https://localhost:8080/"
        },
        "id": "nx6RzNQujtQJ",
        "outputId": "41f02f2d-931d-400c-a552-c5aad65eb71d"
      },
      "execution_count": 14,
      "outputs": [
        {
          "output_type": "stream",
          "name": "stdout",
          "text": [
            "Stage 3: Reading from file\n",
            "Results saved to output_data.txt.\n",
            "\n"
          ]
        }
      ]
    },
    {
      "cell_type": "code",
      "source": [
        "def stage_4_single_input():\n",
        "    \"\"\"Stage 4: Single set of input\"\"\"\n",
        "    print(\"Stage 4: Single set of input\")\n",
        "    temperature = float(input(\"Enter temperature (°C): \"))\n",
        "    humidity = float(input(\"Enter humidity (%): \"))\n",
        "    wind = float(input(\"Enter wind speed (km/h): \"))\n",
        "    weather = calculate_weather(temperature, humidity, wind)\n",
        "    print(f\"The calculated weather variable for the single input is: {weather:.2f}\")\n",
        "    print()\n",
        "\n",
        "stage_4_single_input()"
      ],
      "metadata": {
        "colab": {
          "base_uri": "https://localhost:8080/"
        },
        "id": "q3FaCVMwhFtr",
        "outputId": "ffa8c3b7-2dce-4cbd-aa76-53afe2390422"
      },
      "execution_count": 4,
      "outputs": [
        {
          "output_type": "stream",
          "name": "stdout",
          "text": [
            "Stage 4: Single set of input\n",
            "Enter temperature (°C): 60\n",
            "Enter humidity (%): 45\n",
            "Enter wind speed (km/h): 12\n",
            "The calculated weather variable for the single input is: 1777.20\n",
            "\n"
          ]
        }
      ]
    },
    {
      "cell_type": "code",
      "source": [
        "def stage_5_multiple_inputs():\n",
        "    \"\"\"Stage 5: Multiple sets of inputs\"\"\"\n",
        "    print(\"Stage 5: Multiple sets of inputs\")\n",
        "    input_file = \"file1.txt\"  # Input file with multiple sets of data\n",
        "    output_file = \"output_data.txt\"  # Output file to store results\n",
        "    process_file(input_file, output_file)\n",
        "    print()\n",
        "\n",
        "stage_5_multiple_inputs()"
      ],
      "metadata": {
        "colab": {
          "base_uri": "https://localhost:8080/"
        },
        "id": "ZhjajTNchM1D",
        "outputId": "443cef4a-1f50-4dd1-c331-41a3418c5129"
      },
      "execution_count": 9,
      "outputs": [
        {
          "output_type": "stream",
          "name": "stdout",
          "text": [
            "Stage 5: Multiple sets of inputs\n",
            "Results saved to output_data.txt.\n",
            "\n"
          ]
        }
      ]
    },
    {
      "cell_type": "code",
      "source": [
        "def main():\n",
        "    \"\"\"Main function to run the different stages of weather modeling\"\"\"\n",
        "    # Stage 1: Hard-coding variables\n",
        "    stage_1_hard_coding()\n",
        "\n",
        "    # Stage 2: Keyboard input\n",
        "    stage_2_keyboard_input()\n",
        "\n",
        "    # Stage 3: Reading from a file\n",
        "    stage_3_read_from_file()\n",
        "\n",
        "    # Stage 4: Single set of input\n",
        "    stage_4_single_input()\n",
        "\n",
        "    # Stage 5: Multiple sets of input\n",
        "    stage_5_multiple_inputs()\n",
        "\n",
        "if __name__ == \"__main__\":\n",
        "    main()"
      ],
      "metadata": {
        "colab": {
          "base_uri": "https://localhost:8080/"
        },
        "id": "iYn0QpzshPnD",
        "outputId": "f4660d5a-0489-419e-d568-4e30f7ed8ca1"
      },
      "execution_count": 15,
      "outputs": [
        {
          "output_type": "stream",
          "name": "stdout",
          "text": [
            "Stage 1: Hard-coding variables\n",
            "For temperature 25°C, humidity 60%, and wind speed 10 km/h, the weather variable is: 286.50\n",
            "\n",
            "Stage 2: Keyboard input\n",
            "Enter temperature (°C): 50\n",
            "Enter humidity (%): 35\n",
            "Enter wind speed (km/h): 24\n",
            "The calculated weather variable is: 1230.40\n",
            "\n",
            "Stage 3: Reading from file\n",
            "Results saved to output_data.txt.\n",
            "\n",
            "Stage 4: Single set of input\n",
            "Enter temperature (°C): 60\n",
            "Enter humidity (%): 30\n",
            "Enter wind speed (km/h): 15\n",
            "The calculated weather variable for the single input is: 1780.50\n",
            "\n",
            "Stage 5: Multiple sets of inputs\n",
            "Results saved to output_data.txt.\n",
            "\n"
          ]
        }
      ]
    }
  ]
}