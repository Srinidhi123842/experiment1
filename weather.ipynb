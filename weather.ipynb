{
  "nbformat": 4,
  "nbformat_minor": 0,
  "metadata": {
    "colab": {
      "provenance": [],
      "authorship_tag": "ABX9TyM1E+0j+YRQlihyuOzOmRUA",
      "include_colab_link": true
    },
    "kernelspec": {
      "name": "python3",
      "display_name": "Python 3"
    },
    "language_info": {
      "name": "python"
    }
  },
  "cells": [
    {
      "cell_type": "markdown",
      "metadata": {
        "id": "view-in-github",
        "colab_type": "text"
      },
      "source": [
        "<a href=\"https://colab.research.google.com/github/Srinidhi123842/experiment1/blob/main/weather.ipynb\" target=\"_parent\"><img src=\"https://colab.research.google.com/assets/colab-badge.svg\" alt=\"Open In Colab\"/></a>"
      ]
    },
    {
      "cell_type": "code",
      "source": [
        "def calculate_weather(temperature, humidity, wind_speed):\n",
        "    \"\"\"\n",
        "    Calculate the weather value using the quadratic model:\n",
        "    W = 0.5 * T^2 - 0.2 * H + 0.1 * W - 15\n",
        "    where T is temperature, H is humidity, and W is wind speed.\n",
        "    \"\"\"\n",
        "    W = 0.5 * temperature**2 - 0.2 * humidity + 0.1 * wind_speed - 15\n",
        "    return W\n",
        "\n",
        "def map_to_category(W):\n",
        "    \"\"\"\n",
        "    Map the weather value (W) to a weather category with updated thresholds.\n",
        "    \"\"\"\n",
        "    if W > 10000:\n",
        "        return \"Sunny\"\n",
        "    elif 2000 <= W <= 10000:\n",
        "        return \"Cloudy\"\n",
        "    elif 500 <= W < 2000:\n",
        "        return \"Rainy\"\n",
        "    else:\n",
        "        return \"Stormy\"\n",
        "\n",
        "def stage_1_hard_coding():\n",
        "    \"\"\"Stage 1: Hard-coding the input variables\"\"\"\n",
        "    print(\"Stage 1: Hard-coding variables\")\n",
        "\n",
        "    # Hard-coded values for temperature, humidity, and wind speed\n",
        "    temperature = 25  # in degrees Celsius\n",
        "    humidity = 60     # in percentage\n",
        "    wind_speed = 10   # in km/h\n",
        "\n",
        "    # Calculate weather value\n",
        "    W = calculate_weather(temperature, humidity, wind_speed)\n",
        "\n",
        "    # Map to weather category\n",
        "    weather_category = map_to_category(W)\n",
        "\n",
        "    # Output the result\n",
        "    print(f\"Weather Prediction: {weather_category}\")\n",
        "    print(f\"Calculated Weather Value (W): {W:.2f}\\n\")\n",
        "\n",
        "# Run Stage 1\n",
        "stage_1_hard_coding()\n"
      ],
      "metadata": {
        "colab": {
          "base_uri": "https://localhost:8080/"
        },
        "id": "qnxISn13gSzs",
        "outputId": "cb5a7a88-a9c9-4ebf-a07b-e8cde4bf18ad"
      },
      "execution_count": 15,
      "outputs": [
        {
          "output_type": "stream",
          "name": "stdout",
          "text": [
            "Stage 1: Hard-coding variables\n",
            "Weather Prediction: Stormy\n",
            "Calculated Weather Value (W): 286.50\n",
            "\n"
          ]
        }
      ]
    },
    {
      "cell_type": "code",
      "source": [
        "def calculate_weather(temperature, humidity, wind_speed):\n",
        "    \"\"\"\n",
        "    Calculate the weather value using the quadratic model:\n",
        "    W = 0.5 * T^2 - 0.2 * H + 0.1 * W - 15\n",
        "    where T is temperature, H is humidity, and W is wind speed.\n",
        "    \"\"\"\n",
        "    W = 0.5 * temperature**2 - 0.2 * humidity + 0.1 * wind_speed - 15\n",
        "    return W\n",
        "\n",
        "def map_to_category(W):\n",
        "    \"\"\"\n",
        "    Map the weather value (W) to a weather category with updated thresholds.\n",
        "    \"\"\"\n",
        "    if W > 10000:\n",
        "        return \"Sunny\"\n",
        "    elif 2000 <= W <= 10000:\n",
        "        return \"Cloudy\"\n",
        "    elif 500 <= W < 2000:\n",
        "        return \"Rainy\"\n",
        "    else:\n",
        "        return \"Stormy\"\n",
        "\n",
        "def stage_2_keyboard_input():\n",
        "    \"\"\"Stage 2: Accepting input from the keyboard\"\"\"\n",
        "    print(\"Stage 2: Keyboard input\")\n",
        "\n",
        "    # Accept input from the user\n",
        "    temperature = float(input(\"Enter the temperature (°C): \"))\n",
        "    humidity = float(input(\"Enter the humidity (%): \"))\n",
        "    wind_speed = float(input(\"Enter the wind speed (km/h): \"))\n",
        "\n",
        "    # Calculate weather value\n",
        "    W = calculate_weather(temperature, humidity, wind_speed)\n",
        "\n",
        "    # Map to weather category\n",
        "    weather_category = map_to_category(W)\n",
        "\n",
        "    # Output the result\n",
        "    print(f\"Weather Prediction: {weather_category}\")\n",
        "    print(f\"Calculated Weather Value (W): {W:.2f}\\n\")\n",
        "\n",
        "# Run Stage 2\n",
        "stage_2_keyboard_input()\n"
      ],
      "metadata": {
        "colab": {
          "base_uri": "https://localhost:8080/"
        },
        "id": "vanMJC5qg05j",
        "outputId": "f2ab8dcb-e10c-4f7a-b351-4ecae13e0fe6"
      },
      "execution_count": 16,
      "outputs": [
        {
          "output_type": "stream",
          "name": "stdout",
          "text": [
            "Stage 2: Keyboard input\n",
            "Enter the temperature (°C): 30\n",
            "Enter the humidity (%): 20\n",
            "Enter the wind speed (km/h): 25\n",
            "Weather Prediction: Stormy\n",
            "Calculated Weather Value (W): 433.50\n",
            "\n"
          ]
        }
      ]
    },
    {
      "cell_type": "code",
      "source": [
        "def calculate_weather(temperature, humidity, wind_speed):\n",
        "    \"\"\"\n",
        "    Calculate the weather value using the quadratic model:\n",
        "    W = 0.5 * T^2 - 0.2 * H + 0.1 * W - 15\n",
        "    where T is temperature, H is humidity, and W is wind speed.\n",
        "    \"\"\"\n",
        "    W = 0.5 * temperature**2 - 0.2 * humidity + 0.1 * wind_speed - 15\n",
        "    return W\n",
        "\n",
        "def map_to_category(W):\n",
        "    \"\"\"\n",
        "    Map the weather value (W) to a weather category with updated thresholds.\n",
        "    \"\"\"\n",
        "    if W > 10000:\n",
        "        return \"Sunny\"\n",
        "    elif 2000 <= W <= 10000:\n",
        "        return \"Cloudy\"\n",
        "    elif 500 <= W < 2000:\n",
        "        return \"Rainy\"\n",
        "    else:\n",
        "        return \"Stormy\"\n",
        "\n",
        "def process_file(input_file):\n",
        "    \"\"\"Process weather data from a file\"\"\"\n",
        "    print(\"Stage 3: Reading from file\")\n",
        "\n",
        "    try:\n",
        "        # Open the input file to read data\n",
        "        with open(input_file, 'r') as file:\n",
        "            for line in file:\n",
        "                if line.strip():\n",
        "                    try:\n",
        "                        # Extract values from the line\n",
        "                        temperature, humidity, wind_speed = map(float, line.split())\n",
        "                        # Calculate weather value\n",
        "                        W = calculate_weather(temperature, humidity, wind_speed)\n",
        "                        # Map to weather category\n",
        "                        weather_category = map_to_category(W)\n",
        "\n",
        "                        # Output the result\n",
        "                        print(f\"Temperature: {temperature}°C, Humidity: {humidity}%, Wind Speed: {wind_speed} km/h\")\n",
        "                        print(f\"Weather Prediction: {weather_category}\")\n",
        "                        print(f\"Calculated Weather Value (W): {W:.2f}\\n\")\n",
        "                    except ValueError:\n",
        "                        print(f\"Skipping invalid line: {line.strip()}\")\n",
        "    except FileNotFoundError:\n",
        "        print(f\"Error: The file '{input_file}' was not found.\")\n",
        "\n",
        "# Run Stage 3\n",
        "input_file = \"file1.txt\"  # Ensure the file exists with proper data\n",
        "process_file(input_file)\n"
      ],
      "metadata": {
        "colab": {
          "base_uri": "https://localhost:8080/"
        },
        "id": "pupo364ho1Aa",
        "outputId": "7e7ec139-2fc4-410e-d1b7-a7175c59bb21"
      },
      "execution_count": 17,
      "outputs": [
        {
          "output_type": "stream",
          "name": "stdout",
          "text": [
            "Stage 3: Reading from file\n",
            "Temperature: 55.0°C, Humidity: 60.0%, Wind Speed: 35.0 km/h\n",
            "Weather Prediction: Rainy\n",
            "Calculated Weather Value (W): 1489.00\n",
            "\n",
            "Temperature: 120.0°C, Humidity: 45.0%, Wind Speed: 50.0 km/h\n",
            "Weather Prediction: Cloudy\n",
            "Calculated Weather Value (W): 7181.00\n",
            "\n",
            "Temperature: 30.0°C, Humidity: 50.0%, Wind Speed: 40.0 km/h\n",
            "Weather Prediction: Stormy\n",
            "Calculated Weather Value (W): 429.00\n",
            "\n"
          ]
        }
      ]
    },
    {
      "cell_type": "code",
      "source": [
        "def calculate_weather(temperature, humidity, wind_speed):\n",
        "    \"\"\"\n",
        "    Calculate the weather value using the quadratic model:\n",
        "    W = 0.5 * T^2 - 0.2 * H + 0.1 * W - 15\n",
        "    where T is temperature, H is humidity, and W is wind speed.\n",
        "    \"\"\"\n",
        "    W = 0.5 * temperature**2 - 0.2 * humidity + 0.1 * wind_speed - 15\n",
        "    return W\n",
        "\n",
        "def map_to_category(W):\n",
        "    \"\"\"\n",
        "    Map the weather value (W) to a weather category with updated thresholds.\n",
        "    \"\"\"\n",
        "    if W > 10000:\n",
        "        return \"Sunny\"\n",
        "    elif 2000 <= W <= 10000:\n",
        "        return \"Cloudy\"\n",
        "    elif 500 <= W < 2000:\n",
        "        return \"Rainy\"\n",
        "    else:\n",
        "        return \"Stormy\"\n",
        "\n",
        "def stage_4_single_input_from_file(input_file):\n",
        "    \"\"\"Stage 4: Processing a single set of input from file\"\"\"\n",
        "    print(\"Stage 4: Processing a single set of input from file\")\n",
        "\n",
        "    try:\n",
        "        # Open the input file to read data\n",
        "        with open(input_file, 'r') as file:\n",
        "            # Read the first line\n",
        "            line = file.readline()\n",
        "            if line.strip():\n",
        "                try:\n",
        "                    # Extract values from the first line\n",
        "                    temperature, humidity, wind_speed = map(float, line.split())\n",
        "                    # Calculate weather value\n",
        "                    W = calculate_weather(temperature, humidity, wind_speed)\n",
        "                    # Map to weather category\n",
        "                    weather_category = map_to_category(W)\n",
        "\n",
        "                    # Output the result\n",
        "                    print(f\"Temperature: {temperature}°C, Humidity: {humidity}%, Wind Speed: {wind_speed} km/h\")\n",
        "                    print(f\"Weather Prediction: {weather_category}\")\n",
        "                    print(f\"Calculated Weather Value (W): {W:.2f}\\n\")\n",
        "                except ValueError:\n",
        "                    print(f\"Skipping invalid line: {line.strip()}\")\n",
        "    except FileNotFoundError:\n",
        "        print(f\"Error: The file '{input_file}' was not found.\")\n",
        "\n",
        "# Run Stage 4\n",
        "input_file = \"file1.txt\"  # Ensure the file exists with data\n",
        "stage_4_single_input_from_file(input_file)\n"
      ],
      "metadata": {
        "colab": {
          "base_uri": "https://localhost:8080/"
        },
        "id": "ZhjajTNchM1D",
        "outputId": "e9448e58-3f05-4336-aa53-e5076144baa2"
      },
      "execution_count": 18,
      "outputs": [
        {
          "output_type": "stream",
          "name": "stdout",
          "text": [
            "Stage 4: Processing a single set of input from file\n",
            "Temperature: 55.0°C, Humidity: 60.0%, Wind Speed: 35.0 km/h\n",
            "Weather Prediction: Rainy\n",
            "Calculated Weather Value (W): 1489.00\n",
            "\n"
          ]
        }
      ]
    }
  ]
}