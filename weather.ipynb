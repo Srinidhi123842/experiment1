{
  "nbformat": 4,
  "nbformat_minor": 0,
  "metadata": {
    "colab": {
      "provenance": [],
      "authorship_tag": "ABX9TyMg1xzg5Erx3lyDVYjFfc77",
      "include_colab_link": true
    },
    "kernelspec": {
      "name": "python3",
      "display_name": "Python 3"
    },
    "language_info": {
      "name": "python"
    }
  },
  "cells": [
    {
      "cell_type": "markdown",
      "metadata": {
        "id": "view-in-github",
        "colab_type": "text"
      },
      "source": [
        "<a href=\"https://colab.research.google.com/github/Srinidhi123842/experiment1/blob/main/weather.ipynb\" target=\"_parent\"><img src=\"https://colab.research.google.com/assets/colab-badge.svg\" alt=\"Open In Colab\"/></a>"
      ]
    },
    {
      "cell_type": "code",
      "source": [
        "import math\n",
        "\n",
        "# Hard-coded variables for weather modeling equation\n",
        "T = 25  # Temperature in Celsius\n",
        "H = 60  # Humidity in percentage\n",
        "W = 10  # Wind speed in m/s\n",
        "\n",
        "# Function to calculate w\n",
        "def calculate_w(T, H, W):\n",
        "    w = 0.5 * T**2 - 0.2 * H + 0.1 * W - 15\n",
        "    return w\n",
        "\n",
        "# Calculate w\n",
        "w = calculate_w(T, H, W)\n",
        "\n",
        "# Output the result\n",
        "print(f\"For T={T}°C, H={H}%, W={W}m/s, the calculated w is: {w}\")"
      ],
      "metadata": {
        "colab": {
          "base_uri": "https://localhost:8080/"
        },
        "id": "qnxISn13gSzs",
        "outputId": "d69da6e8-ce9e-4638-b89f-5bfaf8eda32e"
      },
      "execution_count": 9,
      "outputs": [
        {
          "output_type": "stream",
          "name": "stdout",
          "text": [
            "For T=25°C, H=60%, W=10m/s, the calculated w is: 286.5\n"
          ]
        }
      ]
    },
    {
      "cell_type": "code",
      "source": [
        "import math\n",
        "\n",
        "# Function to calculate w\n",
        "def calculate_w(T, H, W):\n",
        "    w = 0.5 * T**2 - 0.2 * H + 0.1 * W - 15\n",
        "    return w\n",
        "\n",
        "# Get user input for temperature, humidity, and wind speed\n",
        "T = float(input(\"Enter temperature (T) in Celsius: \"))\n",
        "H = float(input(\"Enter humidity (H) in percentage: \"))\n",
        "W = float(input(\"Enter wind speed (W) in m/s: \"))\n",
        "\n",
        "# Calculate w\n",
        "w = calculate_w(T, H, W)\n",
        "\n",
        "# Output the result\n",
        "print(f\"For T={T}°C, H={H}%, W={W}m/s, the calculated w is: {w}\")"
      ],
      "metadata": {
        "colab": {
          "base_uri": "https://localhost:8080/"
        },
        "id": "vanMJC5qg05j",
        "outputId": "0f787c56-3b59-47d2-92fa-b35638b1f3e6"
      },
      "execution_count": 10,
      "outputs": [
        {
          "output_type": "stream",
          "name": "stdout",
          "text": [
            "Enter temperature (T) in Celsius: 40\n",
            "Enter humidity (H) in percentage: 30\n",
            "Enter wind speed (W) in m/s: 25\n",
            "For T=40.0°C, H=30.0%, W=25.0m/s, the calculated w is: 781.5\n"
          ]
        }
      ]
    },
    {
      "cell_type": "code",
      "source": [
        "import math\n",
        "def calculate_w(T, H, W):\n",
        "    w = 0.5 * T**2 - 0.2 * H + 0.1 * W - 15\n",
        "    return w\n",
        "with open(\"file1.txt\", \"r\") as file:\n",
        "    line = file.readline()  # Read the first line\n",
        "    T, H, W = map(float, line.split())  # Split and convert the values to float\n",
        "\n",
        "# Calculate w\n",
        "w = calculate_w(T, H, W)\n",
        "print(f\"For T={T}°C, H={H}%, W={W}m/s, the calculated w is: {w}\")"
      ],
      "metadata": {
        "colab": {
          "base_uri": "https://localhost:8080/"
        },
        "id": "pupo364ho1Aa",
        "outputId": "6827c7c0-3df2-4cf3-c0e1-616489d37c31"
      },
      "execution_count": 11,
      "outputs": [
        {
          "output_type": "stream",
          "name": "stdout",
          "text": [
            "For T=55.0°C, H=60.0%, W=35.0m/s, the calculated w is: 1489.0\n"
          ]
        }
      ]
    },
    {
      "cell_type": "code",
      "source": [
        "import math\n",
        "\n",
        "# Function to calculate w\n",
        "def calculate_w(T, H, W):\n",
        "    w = 0.5 * T**2 - 0.2 * H + 0.1 * W - 15\n",
        "    return w\n",
        "\n",
        "# Read input from file\n",
        "with open(\"file1.txt\", \"r\") as file:\n",
        "    for line in file:\n",
        "        T, H, W = map(float, line.split())  # Split and convert the values to float\n",
        "        w = calculate_w(T, H, W)  # Calculate w\n",
        "        print(f\"For T={T}°C, H={H}%, W={W}m/s, the calculated w is: {w}\")"
      ],
      "metadata": {
        "colab": {
          "base_uri": "https://localhost:8080/"
        },
        "id": "ZhjajTNchM1D",
        "outputId": "da39ec30-5531-4b8a-a741-58ab9c01d4ef"
      },
      "execution_count": 13,
      "outputs": [
        {
          "output_type": "stream",
          "name": "stdout",
          "text": [
            "For T=55.0°C, H=60.0%, W=35.0m/s, the calculated w is: 1489.0\n",
            "For T=120.0°C, H=45.0%, W=50.0m/s, the calculated w is: 7181.0\n",
            "For T=30.0°C, H=50.0%, W=40.0m/s, the calculated w is: 429.0\n"
          ]
        }
      ]
    }
  ]
}